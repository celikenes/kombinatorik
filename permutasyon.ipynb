{
  "nbformat": 4,
  "nbformat_minor": 0,
  "metadata": {
    "colab": {
      "name": "Untitled1.ipynb",
      "version": "0.3.2",
      "provenance": [],
      "include_colab_link": true
    },
    "kernelspec": {
      "name": "python3",
      "display_name": "Python 3"
    }
  },
  "cells": [
    {
      "cell_type": "markdown",
      "metadata": {
        "id": "view-in-github",
        "colab_type": "text"
      },
      "source": [
        "<a href=\"https://colab.research.google.com/github/celikenes/kombinatorik/blob/master/permutasyon.ipynb\" target=\"_parent\"><img src=\"https://colab.research.google.com/assets/colab-badge.svg\" alt=\"Open In Colab\"/></a>"
      ]
    },
    {
      "metadata": {
        "id": "m6_CSXQtbaGX",
        "colab_type": "text"
      },
      "cell_type": "markdown",
      "source": [
        "## **KOMBINATORIK**\n",
        "\n",
        "## **Permutasyon**\n",
        "\n",
        "### Soru\n",
        "\n",
        "\"kelebek\" Harfleri yer degistirerek anlamli veya anlamsiz \n",
        "7 harfli kac farkli kelime yazilabilir ? (klavye girisli)\n",
        "\n",
        "### Cozum\n",
        "\n",
        "Karakterlerin Hepsi ! / Tekrar Eden Karakter Sayisi !\n",
        "\n",
        "7 ! /  2 ! * 3 !"
      ]
    },
    {
      "metadata": {
        "id": "aGKCbAC_cjLI",
        "colab_type": "code",
        "colab": {
          "base_uri": "https://localhost:8080/",
          "height": 119
        },
        "outputId": "fc1041fc-4e75-4b38-a72e-ad43c4f6dc29"
      },
      "cell_type": "code",
      "source": [
        "\"\"\"\"\n",
        "degiskenler:\n",
        "calc_permutation: pay ve paydadaki permutasyon hesaplayan ve bolen fonksiyon\n",
        "num, numerator: girilen kelime karakter sayisi\n",
        "denom, denominator_list: tekrar eden karakterlerin sayisi yani payda kismi\n",
        "fact_num: faktoriyel sonucunu tutar\n",
        "temp_denom: payda da bulunan faktoriyelleri ayri ayri hesaplar\n",
        "fact_denom: paydadaki faktoriyellerin hesaplamis halini ayrı ayrı listede saklar\n",
        "denom_total: paydadaki hesaplanmis faktoriye carpar ve saklar\n",
        "permutation_result: anlamli veya anlamsiz kelime adetini hesaplar\n",
        "word: kelime girisi yapilir ve kucuk harfe cevirilir\n",
        "numerator: girilen kelime karakter sayisi\n",
        "letter_list: string girilen kelime listeye cevrilir\n",
        "repeat_dict: tekrar eden karakterleri bulmak icin sozluk olusturulur\n",
        "\n",
        "\"\"\"\n",
        "\n",
        "def calc_permutation(num, denom):\n",
        "\n",
        "    fact_num = 1\n",
        "\n",
        "    while num != 1:\n",
        "        fact_num = num * fact_num\n",
        "        num = num -1\n",
        "\n",
        "    fact_denom = []\n",
        "    temp_denom = 1\n",
        "\n",
        "    for d in denom:\n",
        "\n",
        "        while d != 1:\n",
        "            temp_denom = d * temp_denom\n",
        "            d = d - 1\n",
        "\n",
        "        fact_denom.append(temp_denom)\n",
        "        temp_denom = 1\n",
        "\n",
        "    denom_total = 1\n",
        "\n",
        "    for f in fact_denom:\n",
        "\n",
        "        denom_total = f * denom_total\n",
        "\n",
        "    permutation_result = fact_num / denom_total\n",
        "\n",
        "    print(\"anlamli veya anlamsiz kelime adeti: \",(permutation_result))\n",
        "    \n",
        "    return 0\n",
        "\n",
        "word = input('kelime giriniz (turkce karater girmeyin): ')\n",
        "word = word.lower()\n",
        "\n",
        "numerator = len(word)\n",
        "letter_list = list(word)\n",
        "repeat_dict = {}\n",
        "print (word)\n",
        "print(letter_list)\n",
        "\n",
        "for i in letter_list:\n",
        "    repeat_dict[i] = letter_list.count(i)\n",
        "\n",
        "print(repeat_dict)\n",
        "denominator_list = []\n",
        "for key, value in repeat_dict.items():\n",
        "    if value > 1:\n",
        "        denominator_list.append(value)\n",
        "\n",
        "calc_permutation(numerator, denominator_list)"
      ],
      "execution_count": 2,
      "outputs": [
        {
          "output_type": "stream",
          "text": [
            "kelime giriniz (turkce karater girmeyin): kelebek\n",
            "kelebek\n",
            "['k', 'e', 'l', 'e', 'b', 'e', 'k']\n",
            "{'k': 2, 'e': 3, 'l': 1, 'b': 1}\n",
            "anlamli veya anlamsiz kelime adeti:  420.0\n"
          ],
          "name": "stdout"
        },
        {
          "output_type": "execute_result",
          "data": {
            "text/plain": [
              "0"
            ]
          },
          "metadata": {
            "tags": []
          },
          "execution_count": 2
        }
      ]
    }
  ]
}